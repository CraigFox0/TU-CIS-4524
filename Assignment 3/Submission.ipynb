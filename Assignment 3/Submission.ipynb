{
 "cells": [
  {
   "cell_type": "code",
   "execution_count": 7,
   "metadata": {},
   "outputs": [
    {
     "name": "stdout",
     "output_type": "stream",
     "text": [
      "Name: Craig Fox\n",
      "TUID: 915781095\n"
     ]
    }
   ],
   "source": [
    "# Craig Fox\n",
    "print('Name: Craig Fox')\n",
    "# TUID: 915781095\n",
    "print('TUID: 915781095')\n",
    "\n",
    "from math import comb\n",
    "import math"
   ]
  },
  {
   "cell_type": "code",
   "execution_count": 29,
   "metadata": {},
   "outputs": [
    {
     "name": "stdout",
     "output_type": "stream",
     "text": [
      "Problem 1\n",
      "\n",
      "Erdős–Rényi graphs have an average degree = p(n-1)\n",
      "This graph would have an average degree = 3.999\n",
      "\n",
      "Erdős–Rényi graphs have a variance = p(1-p)(n-1)\n",
      "This graph would have a variance = 3.9950010000000002\n",
      "\n",
      "The Probability of a node having k degrees = (n-1 pick k)(p^k)(1-p)^(n-1-k)\n",
      "So the number of nodes greater with greater than or equal to 2k degree = 203.93917397722828\n",
      "\n"
     ]
    }
   ],
   "source": [
    "# Problem 1\n",
    "print('Problem 1\\n')\n",
    "\n",
    "# Erdős–Rényi graph: N=4000, p=0.001\n",
    "n = 4000\n",
    "p = 0.001\n",
    "\n",
    "# What is the average degree of a node in this graph?\n",
    "print('Erdős–Rényi graphs have an average degree = p(n-1)')\n",
    "k = p*(n-1)\n",
    "print('This graph would have an average degree = ' + str(k) + '\\n')\n",
    "\n",
    "# What is the variance in the degrees of the nodes?\n",
    "print('Erdős–Rényi graphs have a variance = p(1-p)(n-1)')\n",
    "print('This graph would have a variance = ' + str(k*(1-p)) + '\\n')\n",
    "\n",
    "# What is the expected number of nodes with a degree which is at least twice larger that the average degree?\n",
    "print('The Probability of a node having k degrees = (n-1 pick k)(p^k)(1-p)^(n-1-k)')\n",
    "at_least_twice_degree = []\n",
    "for x in range(math.ceil(2*k), 100):\n",
    "    #Note: The range should go from math.ceil(2*k) to n-1, but since n-1 is 3999 the factorial in the combination becomes incredibly large. 100 is already high enough for a high accuracy\n",
    "    at_least_twice_degree.append(comb(n-1, x)*(p**x)*(1-p)**(n-1-x))\n",
    "print('So the number of nodes greater with greater than or equal to 2k degree = ' + str(sum(at_least_twice_degree)*n) + '\\n')"
   ]
  },
  {
   "cell_type": "code",
   "execution_count": 32,
   "metadata": {},
   "outputs": [
    {
     "name": "stdout",
     "output_type": "stream",
     "text": [
      "Problem 2\n",
      "\n",
      "The maximum number of edge is n(n-1)/2. A graph has c*n/2 edges. Therefore p = (c*n/2)/(n(n-1)/2) = c/(n-1)\n",
      "\n",
      "For a triangle to exist, there has to be three codes all sharing edges. So there are n Pick 3 possible triangles which equals n!/(3!(n-3)!). Each edge in the triangle has a c/(n-1) chance of exisiting (as shown in the previous question). So for a specific triangle to appear there is a (c/(n-1))^3 chance. So the total number of triangles = the probability of a triangle times the number of potential triangles = n!/(3!(n-3)!)*(c/(n-1))^3. As n approaches infinity this simplies to (c^3)/6\n"
     ]
    }
   ],
   "source": [
    "# Problem 2\n",
    "print('Problem 2\\n')\n",
    "\n",
    "# Consider Gn,p, an Erdös–Rényi random graph with n nodes, m edges, and mean degree c\n",
    "\n",
    "# a) Compute the probability p of creating an edge in Gn,p.\n",
    "print('The maximum number of edge is n(n-1)/2. A graph has c*n/2 edges. Therefore p = (c*n/2)/(n(n-1)/2) = c/(n-1)\\n')\n",
    "\n",
    "# b) Show that in the limit (large n) the expected number of triangles in Gn,p is (1/6)*c^3\n",
    "print('For a triangle to exist, there has to be three codes all sharing edges. So there are n Pick 3 possible triangles which equals n!/(3!(n-3)!). Each edge in the triangle has a c/(n-1) chance of exisiting (as shown in the previous question). So for a specific triangle to appear there is a (c/(n-1))^3 chance. So the total number of triangles = the probability of a triangle times the number of potential triangles = n!/(3!(n-3)!)*(c/(n-1))^3. As n approaches infinity this simplies to (c^3)/6')"
   ]
  },
  {
   "cell_type": "code",
   "execution_count": null,
   "metadata": {},
   "outputs": [],
   "source": []
  }
 ],
 "metadata": {
  "kernelspec": {
   "display_name": "Python 3",
   "language": "python",
   "name": "python3"
  },
  "language_info": {
   "codemirror_mode": {
    "name": "ipython",
    "version": 3
   },
   "file_extension": ".py",
   "mimetype": "text/x-python",
   "name": "python",
   "nbconvert_exporter": "python",
   "pygments_lexer": "ipython3",
   "version": "3.8.5"
  }
 },
 "nbformat": 4,
 "nbformat_minor": 4
}
