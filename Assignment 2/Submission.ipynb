{
 "cells": [
  {
   "cell_type": "code",
   "execution_count": 1,
   "metadata": {},
   "outputs": [
    {
     "name": "stdout",
     "output_type": "stream",
     "text": [
      "Name: Craig Fox\n",
      "TUID: 915781095\n"
     ]
    }
   ],
   "source": [
    "# Craig Fox\n",
    "print('Name: Craig Fox')\n",
    "# TUID: 915781095\n",
    "print('TUID: 915781095')\n",
    "\n",
    "import networkx as nx\n",
    "import matplotlib.pyplot as plt\n",
    "import csv\n",
    "import collections\n",
    "import statistics"
   ]
  },
  {
   "cell_type": "code",
   "execution_count": 2,
   "metadata": {},
   "outputs": [
    {
     "name": "stdout",
     "output_type": "stream",
     "text": [
      "Problem 1\n"
     ]
    }
   ],
   "source": [
    "# Problem 1\n",
    "print('Problem 1')\n",
    "\n",
    "G = nx.read_edgelist(\"com-amazon.ungraph.txt\")"
   ]
  },
  {
   "cell_type": "code",
   "execution_count": 3,
   "metadata": {},
   "outputs": [
    {
     "name": "stdout",
     "output_type": "stream",
     "text": [
      "The number of nodes of the largest connected component is 334863\n"
     ]
    }
   ],
   "source": [
    "# Size of the largest connected component\n",
    "lcc = max(nx.connected_components(G), key=len)\n",
    "print('The number of nodes of the largest connected component is ' + str(len(lcc)))"
   ]
  },
  {
   "cell_type": "code",
   "execution_count": 4,
   "metadata": {},
   "outputs": [
    {
     "name": "stdout",
     "output_type": "stream",
     "text": [
      "The number of connected components is 1\n"
     ]
    }
   ],
   "source": [
    "# Number of connected components\n",
    "print('The number of connected components is ' + str(len(list(nx.connected_components(G)))))"
   ]
  },
  {
   "cell_type": "code",
   "execution_count": 5,
   "metadata": {},
   "outputs": [
    {
     "data": {
      "image/png": "[encoded data removed]",
      "text/plain": [
       "<Figure size 432x288 with 1 Axes>"
      ]
     },
     "metadata": {
      "needs_background": "light"
     },
     "output_type": "display_data"
    }
   ],
   "source": [
    "# Degree distribution\n",
    "degreeCount = collections.Counter(sorted([d for n, d in G.degree()], reverse=True))\n",
    "degree, count = zip(*degreeCount.items())\n",
    "\n",
    "fig, ax = plt.subplots()\n",
    "plt.bar(degree, count)\n",
    "\n",
    "plt.title(\"Degree Histogram\")\n",
    "plt.ylabel(\"Count\")\n",
    "plt.xlabel(\"Degree\")\n",
    "\n",
    "plt.show()"
   ]
  },
  {
   "cell_type": "code",
   "execution_count": 20,
   "metadata": {},
   "outputs": [
    {
     "name": "stdout",
     "output_type": "stream",
     "text": [
      "The average shortest path length is 11.60\n"
     ]
    }
   ],
   "source": [
    "# Path length\n",
    "\n",
    "# To find the shortest path length for all 334,863 nodes would have taken a long time, so 1,000 nodes were done to get a estimate\n",
    "x = []\n",
    "for r in range(1000):\n",
    "    m = statistics.mean(nx.shortest_path_length(G, source=(list(G)[r])).values())\n",
    "    x.append(m)\n",
    "print('The average shortest path length is ' + str(statistics.mean(x))[:5])"
   ]
  },
  {
   "cell_type": "code",
   "execution_count": 18,
   "metadata": {},
   "outputs": [
    {
     "name": "stdout",
     "output_type": "stream",
     "text": [
      "The average clustering coefficient is 0.396\n"
     ]
    }
   ],
   "source": [
    "# Clustering coefficient\n",
    "print('The average clustering coefficient is ' + str(nx.average_clustering(G))[:5])"
   ]
  },
  {
   "cell_type": "code",
   "execution_count": null,
   "metadata": {},
   "outputs": [],
   "source": []
  }
 ],
 "metadata": {
  "kernelspec": {
   "display_name": "Python 3",
   "language": "python",
   "name": "python3"
  },
  "language_info": {
   "codemirror_mode": {
    "name": "ipython",
    "version": 3
   },
   "file_extension": ".py",
   "mimetype": "text/x-python",
   "name": "python",
   "nbconvert_exporter": "python",
   "pygments_lexer": "ipython3",
   "version": "3.8.5"
  }
 },
 "nbformat": 4,
 "nbformat_minor": 4
}
