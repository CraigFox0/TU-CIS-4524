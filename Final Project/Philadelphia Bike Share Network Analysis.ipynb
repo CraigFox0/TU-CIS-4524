{
 "cells": [
  {
   "cell_type": "code",
   "execution_count": 1,
   "metadata": {},
   "outputs": [],
   "source": [
    "import matplotlib.pyplot as plt\n",
    "import pandas as pd\n",
    "from os import listdir\n",
    "import networkx as nx\n",
    "import numpy as np\n",
    "import collections\n",
    "import statistics"
   ]
  },
  {
   "cell_type": "code",
   "execution_count": 3,
   "metadata": {},
   "outputs": [],
   "source": [
    "# Generate Database\n",
    "\n",
    "rides = pd.DataFrame()\n",
    "\n",
    "filepaths = [(\"Indego Data/\" + f) for f in listdir(\"Indego Data/\") if f.endswith('.csv')]\n",
    "for filepath in filepaths:\n",
    "    data = pd.read_csv(filepath, index_col='trip_id')\n",
    "    if 'start_station_id' in data.columns:\n",
    "        if 'start_station' in data.columns:\n",
    "            data['start_station'] = data['start_station'].fillna(data['start_station_id'], inplace=True)\n",
    "        else:\n",
    "            data['start_station'] = data['start_station_id']\n",
    "        data = data.drop('start_station_id', axis=1)\n",
    "    if 'end_station_id' in data.columns:\n",
    "        if 'end_station' in data.columns:\n",
    "            data['end_station'] = data['end_station'].fillna(data['end_station_id'], inplace=True)\n",
    "        else:\n",
    "            data['end_station'] = data['end_station_id']\n",
    "        data = data.drop('end_station_id', axis=1)\n",
    "            \n",
    "    rides = rides.append(data)"
   ]
  },
  {
   "cell_type": "code",
   "execution_count": 4,
   "metadata": {},
   "outputs": [
    {
     "name": "stdout",
     "output_type": "stream",
     "text": [
      "Initial number of rows: 4121196\n",
      "Final number of rows: 3834909\n"
     ]
    }
   ],
   "source": [
    "#Sanitize Data\n",
    "\n",
    "sanitized_rides = rides\n",
    "\n",
    "print('Initial number of rows: ' + str(len(sanitized_rides)))\n",
    "\n",
    "#Drop unused columns\n",
    "sanitized_rides = sanitized_rides.drop(['start_lat', 'start_lon', 'end_lat', 'end_lon'], axis=1)\n",
    "\n",
    "#Replaces Day Pass with One Day Pass from before there was Two Day Pass\n",
    "sanitized_rides['passholder_type'] = sanitized_rides['passholder_type'].replace(to_replace={'^Day Pass': 'One Day Pass'}, regex=True)\n",
    "\n",
    "#Replace nans of bike type with standard because the column was only added when electric bikes were added\n",
    "sanitized_rides['bike_type'] = sanitized_rides['bike_type'].fillna('standard')\n",
    "\n",
    "#Removes trips that start or end at a Virtual Station b/c these are usually anomalous\n",
    "sanitized_rides = sanitized_rides[sanitized_rides['start_station'] != 3000]\n",
    "sanitized_rides = sanitized_rides[sanitized_rides['end_station'] != 3000]\n",
    "\n",
    "#Remove most recent station because not enough data collected on it\n",
    "sanitized_rides = sanitized_rides[sanitized_rides['start_station'] != 3226]\n",
    "sanitized_rides = sanitized_rides[sanitized_rides['end_station'] != 3226]\n",
    "\n",
    "#Remove stations that are not known\n",
    "sanitized_rides = sanitized_rides[sanitized_rides['start_station'] != 3083]\n",
    "sanitized_rides = sanitized_rides[sanitized_rides['end_station'] != 3083]\n",
    "\n",
    "#Duration should be capped at 24 hr per Indego documentation but is not always done\n",
    "sanitized_rides = sanitized_rides[sanitized_rides['duration'] < (24*60)]\n",
    "\n",
    "#Drops incomplete ride data\n",
    "sanitized_rides = sanitized_rides.dropna()\n",
    "\n",
    "#Misc Cleaning\n",
    "sanitized_rides = sanitized_rides[sanitized_rides['start_station'] < 4000]\n",
    "sanitized_rides = sanitized_rides[sanitized_rides['end_station'] < 4000]\n",
    "\n",
    "print('Final number of rows: ' + str(len(sanitized_rides)))\n",
    "\n",
    "#Fixes dtypes\n",
    "sanitized_rides = sanitized_rides.astype({'duration':'int32',\n",
    "                                          'start_time':'datetime64',\n",
    "                                          'end_time':'datetime64',\n",
    "                                          'start_station':'int32',\n",
    "                                          'end_station':'int32',\n",
    "                                          'bike_id':'str',\n",
    "                                          'plan_duration':'int32',\n",
    "                                          'trip_route_category':'category',\n",
    "                                          'passholder_type':'category',\n",
    "                                          'bike_type':'category'})"
   ]
  },
  {
   "cell_type": "code",
   "execution_count": 5,
   "metadata": {},
   "outputs": [
    {
     "name": "stdout",
     "output_type": "stream",
     "text": [
      "144\n",
      "19353\n"
     ]
    }
   ],
   "source": [
    "#Make Graph\n",
    "\n",
    "rides_graph_data = sanitized_rides.groupby(['start_station','end_station']).size().reset_index(name='counts')\n",
    "rides_graph_data['percent'] = rides_graph_data['counts']/len(sanitized_rides)\n",
    "rides_graph = nx.from_pandas_edgelist(rides_graph_data,'start_station','end_station', 'percent', create_using=nx.DiGraph())\n",
    "\n",
    "#Remove inactive nodes\n",
    "rides_graph.remove_nodes_from([3023,3026,3027,3036,3048,3095,3103,3105,3109,3122,3129,3195])\n",
    "print(len(rides_graph.nodes()))\n",
    "print(len(rides_graph.edges()))"
   ]
  },
  {
   "cell_type": "code",
   "execution_count": 6,
   "metadata": {},
   "outputs": [
    {
     "name": "stdout",
     "output_type": "stream",
     "text": [
      "Number of Strongly Connected Components: 1\n",
      "Mean Degree: 268.7916666666667\n",
      "Mean Shortest Path Length: 1.0671620046620047\n",
      "Mean Clustering Coefficient: 0.9608753270412045\n"
     ]
    },
    {
     "data": {
      "text/plain": [
       "<Figure size 432x288 with 0 Axes>"
      ]
     },
     "metadata": {},
     "output_type": "display_data"
    }
   ],
   "source": [
    "#Connected Components\n",
    "print('Number of Strongly Connected Components: ' + str(nx.number_strongly_connected_components(rides_graph)))\n",
    "\n",
    "#Degree Distribution\n",
    "degrees = sorted([d for n, d in rides_graph.degree()])\n",
    "plt.hist(degrees, 50)\n",
    "plt.title('Degree Distribution')\n",
    "plt.ylabel(\"Count\")\n",
    "plt.xlabel(\"Degree\")\n",
    "plt.savefig('Degree Distribution.png')\n",
    "plt.clf()\n",
    "print('Mean Degree: ' + str(statistics.mean(degrees)))\n",
    "\n",
    "#Average Path Length\n",
    "avg_path_len = []\n",
    "for node in rides_graph.nodes:\n",
    "    path_length_dict = dict(nx.shortest_path_length(rides_graph, source=node))\n",
    "    path_length = np.mean(list(path_length_dict.values()))\n",
    "    avg_path_len.append(path_length)\n",
    "plt.hist(avg_path_len, 100)\n",
    "plt.title('Path Length Distribution')\n",
    "plt.ylabel(\"Count\")\n",
    "plt.xlabel(\"Path Length\")\n",
    "plt.savefig('Average Path Length.png')\n",
    "plt.clf()\n",
    "print('Mean Shortest Path Length: ' + str(nx.average_shortest_path_length(rides_graph)))\n",
    "\n",
    "#Clustering Coefficient\n",
    "cc = nx.clustering(rides_graph).values()\n",
    "plt.hist(cc, 50)\n",
    "plt.title('Clustering Coefficient Distribution')\n",
    "plt.ylabel(\"Count\")\n",
    "plt.xlabel(\"Clustering Coefficient\")\n",
    "plt.savefig('Clustering Coefficient.png')\n",
    "plt.clf()\n",
    "print('Mean Clustering Coefficient: ' + str(nx.average_clustering(rides_graph)))"
   ]
  },
  {
   "cell_type": "code",
   "execution_count": 7,
   "metadata": {},
   "outputs": [
    {
     "data": {
      "text/plain": [
       "<Figure size 432x288 with 0 Axes>"
      ]
     },
     "metadata": {},
     "output_type": "display_data"
    }
   ],
   "source": [
    "# Invert graph\n",
    "inverted_graph = nx.complete_graph(rides_graph.nodes, create_using=nx.DiGraph())\n",
    "inverted_graph.remove_edges_from(rides_graph.edges)\n",
    "\n",
    "pos = nx.spring_layout(inverted_graph, k=5)\n",
    "nx.draw(inverted_graph, with_labels=True)\n",
    "plt.clf()\n",
    "\n",
    "#Nothing of interest. Farther locations for likely. A lot are new or inactive"
   ]
  },
  {
   "cell_type": "code",
   "execution_count": 8,
   "metadata": {},
   "outputs": [
    {
     "name": "stdout",
     "output_type": "stream",
     "text": [
      "[-0.0006120093071308938, -0.00048032430495742896, 0.001092072849707782, -0.0009298786490109755, 0.00024954959817821004, -0.0004610278887973423, 4.6676466116928744e-05, 0.0008615589053090969, 0.0007434335469238065, 0.00010378342745552289, -1.6949554735194022e-05, -0.0004302579278934659, -3.7549782797975315e-05, -8.161862510948684e-05, -0.00032021620330496305, -1.4341930929784828e-05, 0.0019330315269540897, -0.003976626303257798, -0.00013377110121778196, 2.060022806277869e-05, 3.389910947041233e-06, -0.0015384980451948107, 0.0006542528127786162, -0.0001316850021734449, 0.0003408164313677374, -0.00040731083840581106, -0.0004792812554352526, -0.00032256306472983574, 0.0013713493592677158, -0.0005481225238982111, 0.00041591599696369497, 0.0010414849478827311, 0.0018013465247806518, -0.0010341836012275644, -2.6076238054149505e-07, -6.753745656024306e-05, -0.00031395790617195704, -0.0006735492289386726, -0.0008313104691662927, -0.0007442158340654282, 6.519059513526021e-06, 0.0014949507276443737, -7.353499131268482e-05, 7.953252606515866e-05, -0.0004370377497875423, 9.908970460579397e-06, 0.00045842026499194784, -0.00015437132928057193, 0.0018357671590121163, 0.0008104494787229671, -0.0008347003801133209, -0.0005718519005274997, -0.00027771193527668936, 0.0005285653453576157, 0.0003348188966152757, 0.0001561966659443556, 0.0011053717311153965, 0.00020052627063640903, 4.120045612554697e-05, -0.0003256922132963188, -0.00048214964162122, 0.0011238858601338416, -0.0003773231646435442, -0.00010899867506634388, 0.0001681917354492612, 0.0007507348935789611, 0.0008378295286798221, -0.0003861890855819568, -0.00015228523023623833, -0.0005843684947934857, 0.00013038119027074723, 3.598520851472598e-05, -0.0004910155625596304, -0.0004279110664685915, -0.00029805140095892635, -0.0014542717962799162, -0.0006978001303290307, -0.00027562583623235576, 0.0003069173218973383, 2.6337000434690453e-05, 0.00016036886403301824, -0.0002062630430083156, -0.00039036128367061617, 3.25952975676867e-05, 0.0005773279105188711, 5.319552563046452e-05, 0.00017236393353792928, 0.0008193153996613745, 6.519059513539465e-06, 4.2765030408804545e-05, -1.747107949627959e-05, 0.00016010810165247827, 0.00028240565812644256, 0.0009460459166045409, 0.0001501991311918993, -0.0003807130755905802, 9.309216985331319e-05, -0.0003653280951386338, 0.00017001707211305441, -0.00011369239791609166, 4.276503040880064e-05, 2.0860990443249267e-06, -0.0001575004778470628, -0.00024094443962033958, -0.0002005262706364112, 0.0005329983058268099, 0.0006659871199029741, 1.5645742832458634e-06, -0.00012438365551829377, -0.00024016215247872012, -0.0002498103605587513, 4.432960469205865e-06, -0.0002133036272829428, 3.728902041743535e-05, -3.572444613418775e-05, -0.0001314242397929136, 0.00013794329930645177, 4.954485230288289e-06, -4.667646611692441e-05, -1.6949554735197058e-05, 6.310449609104132e-05, -3.233453518714218e-05, -7.692490225973993e-05, 2.451166377090072e-05, -0.00012646975456262304, -8.109710034840453e-05, 1.3038119027075244e-06, -0.00016610563640493022, 8.683387272031737e-05, -8.344396177327245e-06, 1.4341930929779624e-05, 1.1473544743827863e-05, 0.000136378725023202, 1.2516594265992277e-05, 1.642802997411496e-05, 3.129148566497885e-05, -1.6428029974113658e-05, 1.7992604257362774e-05, 1.8774891398987657e-05, 6.805898132132972e-05, -6.7015931799164e-05, -8.344396177327787e-06, -1.5645742832488178e-06, -7.301346655161746e-06]\n"
     ]
    },
    {
     "data": {
      "text/plain": [
       "<Figure size 432x288 with 0 Axes>"
      ]
     },
     "metadata": {},
     "output_type": "display_data"
    }
   ],
   "source": [
    "# Difference between in degree and out degree\n",
    "\n",
    "in_degrees_percent = [d for n, d in rides_graph.in_degree(weight='percent')]\n",
    "out_degrees_percent = [d for n, d in rides_graph.out_degree(weight='percent')]\n",
    "net_out_degrees_percent = [out_degree_percent - in_degree_percent for in_degree_percent, out_degree_percent in zip(in_degrees_percent, out_degrees_percent)]\n",
    "plt.hist(net_out_degrees_percent, 100)\n",
    "plt.title('Net Out Degree Percent Distribution')\n",
    "plt.ylabel(\"Count\")\n",
    "plt.xlabel(\"Percent Difference between Out and In Degree\")\n",
    "plt.savefig('Net Out Degree Distribution Percent.png')\n",
    "plt.clf()\n",
    "\n",
    "print(net_out_degrees_percent)\n",
    "\n",
    "#Difference is non-zero but typically very close (<.1). Anomalies for closed and new stations. Wonder how that changes with time of day"
   ]
  },
  {
   "cell_type": "code",
   "execution_count": 9,
   "metadata": {},
   "outputs": [],
   "source": [
    "#Most and least central nodes\n",
    "in_centrality = nx.in_degree_centrality(rides_graph)\n",
    "out_centrality = nx.out_degree_centrality(rides_graph)\n",
    "\n",
    "#Same results as other data"
   ]
  },
  {
   "cell_type": "code",
   "execution_count": 10,
   "metadata": {},
   "outputs": [
    {
     "data": {
      "text/plain": [
       "<Figure size 432x288 with 0 Axes>"
      ]
     },
     "metadata": {},
     "output_type": "display_data"
    }
   ],
   "source": [
    "edge_percents = []\n",
    "for n1, n2, w in rides_graph.edges(data='percent'):\n",
    "    edge_percents.append(w)\n",
    "plt.hist(edge_percents, 50)\n",
    "plt.title('Edge Weight Percent Distribution')\n",
    "plt.xlabel(\"Weight\")\n",
    "plt.savefig('Edge Weight Percent Distribution.png')\n",
    "plt.clf()"
   ]
  },
  {
   "cell_type": "code",
   "execution_count": 11,
   "metadata": {},
   "outputs": [
    {
     "name": "stdout",
     "output_type": "stream",
     "text": [
      "[(3010, 3010, 0.00135622514119631), (3012, 3020, 0.0012847762489279406), (3020, 3012, 0.0012154134557039033), (3020, 3032, 0.0025838944287856634), (3028, 3028, 0.0010318367398026915), (3032, 3020, 0.0016172482841183453), (3038, 3032, 0.0011556988705599012), (3045, 3045, 0.0011301441572668348), (3049, 3049, 0.0012667836446705776), (3053, 3053, 0.0013622226759487644), (3054, 3054, 0.0011520481972323202), (3054, 3102, 0.0015859567984533663), (3057, 3057, 0.004772994613431505), (3066, 3020, 0.0010234923436253638), (3102, 3054, 0.0011901195047913783), (3102, 3102, 0.0015776124022760384), (3163, 3163, 0.0012811255756003598), (3212, 3212, 0.0011348378801165817)]\n",
      "[(3020, 3032, 0.0025838944287856634), (3032, 3020, 0.0016172482841183453), (3054, 3102, 0.0015859567984533663), (3057, 3057, 0.004772994613431505), (3102, 3102, 0.0015776124022760384)]\n"
     ]
    },
    {
     "data": {
      "text/plain": [
       "<Figure size 432x288 with 0 Axes>"
      ]
     },
     "metadata": {},
     "output_type": "display_data"
    }
   ],
   "source": [
    "#Display Graph\n",
    "\n",
    "most_popular_routes = rides_graph.copy()\n",
    "\n",
    "threshold = 0.001\n",
    "most_popular_routes.remove_edges_from([(n1, n2) for n1, n2, w in most_popular_routes.edges(data='percent') if w < threshold])\n",
    "most_popular_routes.remove_nodes_from(list(nx.isolates(most_popular_routes)))\n",
    "\n",
    "pos = nx.spring_layout(most_popular_routes, k=1)\n",
    "nx.draw(most_popular_routes, with_labels=True, pos=pos)\n",
    "\n",
    "print(most_popular_routes.edges(data='percent'))\n",
    "plt.savefig('General 001 Popular Routes.png')\n",
    "plt.clf()\n",
    "\n",
    "threshold = 0.0015\n",
    "most_popular_routes.remove_edges_from([(n1, n2) for n1, n2, w in most_popular_routes.edges(data='percent') if w < threshold])\n",
    "most_popular_routes.remove_nodes_from(list(nx.isolates(most_popular_routes)))\n",
    "\n",
    "pos = nx.spring_layout(most_popular_routes, k=1)\n",
    "nx.draw(most_popular_routes, with_labels=True, pos=pos)\n",
    "\n",
    "print(most_popular_routes.edges(data='percent'))\n",
    "plt.savefig('General 0015 Popular Routes.png')\n",
    "plt.clf()"
   ]
  },
  {
   "cell_type": "code",
   "execution_count": 12,
   "metadata": {},
   "outputs": [
    {
     "name": "stdout",
     "output_type": "stream",
     "text": [
      "   passholder_type trip_route_category   counts\n",
      "0         Indego30             One Way  2767358\n",
      "1         Indego30          Round Trip   195269\n",
      "2        Indego365             One Way   349949\n",
      "3        Indego365          Round Trip    17752\n",
      "4       IndegoFlex             One Way    21368\n",
      "5       IndegoFlex          Round Trip     1693\n",
      "6     One Day Pass             One Way   214952\n",
      "7     One Day Pass          Round Trip    57073\n",
      "8     Two Day Pass             One Way     1492\n",
      "9     Two Day Pass          Round Trip      102\n",
      "10         Walk-up             One Way   178540\n",
      "11         Walk-up          Round Trip    29361\n"
     ]
    }
   ],
   "source": [
    "#trip_route_category by passholder_type\n",
    "x = sanitized_rides.groupby(['passholder_type', 'trip_route_category']).size().reset_index(name='counts')\n",
    "print(x)\n",
    "# < 10 for 30, <5 for 365, <10 for flex, >20 for 1, <10 for 2, 15 for walkup"
   ]
  },
  {
   "cell_type": "code",
   "execution_count": 13,
   "metadata": {},
   "outputs": [
    {
     "name": "stdout",
     "output_type": "stream",
     "text": [
      "[(3004, 3004, 0.0029581387294914407), (3004, 3056, 0.0012794551252759726), (3004, 3057, 0.0013852747221033087), (3005, 3005, 0.0015536240806922526), (3006, 3006, 0.0015584340623662225), (3007, 3007, 0.0014718543922347656), (3009, 3009, 0.0021981616250042087), (3010, 3010, 0.0020346222480892347), (3010, 3028, 0.0015824839707360716), (3012, 3012, 0.0011255357117089383), (3015, 3015, 0.001375654758755369), (3018, 3018, 0.0027945993525764668), (3018, 3047, 0.0011495856200787874), (3018, 3057, 0.00107743589496924), (3020, 3012, 0.0010245260965555721), (3020, 3020, 0.0013371749053636105), (3020, 3032, 0.0013035050336458217), (3021, 3021, 0.002578150177247825), (3022, 3022, 0.001866272889500291), (3024, 3024, 0.0016642536591935585), (3028, 3028, 0.0016402037508237094), (3029, 3029, 0.0019672825046536573), (3031, 3031, 0.0012505952352321538), (3032, 3032, 0.002082722064828933), (3037, 3037, 0.0020057623580454157), (3037, 3057, 0.001188065473470546), (3040, 3040, 0.0010630059499473308), (3041, 3041, 0.0011592055834267272), (3045, 3028, 0.0010485760049254212), (3045, 3045, 0.002385750910289032), (3046, 3046, 0.0020490521931111443), (3047, 3018, 0.001375654758755369), (3047, 3047, 0.0035305265486938494), (3047, 3057, 0.001188065473470546), (3049, 3047, 0.0011736355284486365), (3049, 3049, 0.005714258228676149), (3050, 3050, 0.0013323649236896408), (3051, 3021, 0.0010245260965555721), (3051, 3051, 0.0023665109835931527), (3052, 3052, 0.0018614629078263212), (3054, 3054, 0.00243385072702873), (3055, 3055, 0.0011447756384048177), (3056, 3004, 0.0011399656567308478), (3056, 3056, 0.0019961423946974763), (3057, 3004, 0.0023136011851794844), (3057, 3018, 0.0014766643739087355), (3057, 3021, 0.0013035050336458217), (3057, 3022, 0.0010197161148816022), (3057, 3032, 0.001462234428886826), (3057, 3037, 0.0010245260965555721), (3057, 3047, 0.0011976854368184857), (3057, 3057, 0.01566130033044574), (3057, 3108, 0.002299171240157575), (3058, 3021, 0.0010197161148816022), (3058, 3058, 0.0014670444105607957), (3059, 3059, 0.001269835161928033), (3060, 3060, 0.0015632440440401922), (3061, 3009, 0.001029336078229542), (3061, 3061, 0.0020634821381330538), (3062, 3062, 0.0014045146487991881), (3063, 3063, 0.0011495856200787874), (3066, 3066, 0.0010966758216651195), (3070, 3070, 0.0010437660232514513), (3071, 3071, 0.0013708447770813994), (3101, 3101, 0.001923992669587929), (3102, 3102, 0.0026647298473792816), (3108, 3108, 0.0014141346121471277), (3110, 3110, 0.001269835161928033), (3124, 3124, 0.003410277006844604), (3125, 3125, 0.00108224587664321), (3163, 3163, 0.002000952376371446)]\n",
      "[(3004, 3004, 0.0023674294642036576), (3004, 3057, 0.0024041907912875655), (3005, 3005, 0.0014594246852311368), (3007, 3007, 0.0012572373862696443), (3009, 3009, 0.0017020494439849278), (3010, 3010, 0.0016358790552338939), (3015, 3015, 0.0012057715283521734), (3018, 3018, 0.0024519805164966457), (3018, 3047, 0.0019042367429464204), (3018, 3057, 0.0016946971785681464), (3019, 3019, 0.0013160555096038966), (3021, 3021, 0.001602793860858377), (3022, 3022, 0.001555004135649297), (3024, 3024, 0.0019299696719051558), (3028, 3028, 0.0022902306773274514), (3029, 3029, 0.0013638452348129768), (3032, 3032, 0.0018858560794044665), (3037, 3037, 0.0018895322121128572), (3037, 3057, 0.0012682657843948167), (3040, 3040, 0.001003584229390681), (3041, 3041, 0.0011432772723095304), (3045, 3045, 0.002069662714824005), (3046, 3046, 0.003385718224427902), (3046, 3047, 0.0010146126275158533), (3047, 3004, 0.0011138682106424042), (3047, 3018, 0.0014189872254388384), (3047, 3046, 0.0011285727414759672), (3047, 3047, 0.003400422755261465), (3047, 3057, 0.0016579358514842385), (3049, 3049, 0.009282235088686702), (3049, 3124, 0.001084459148975278), (3050, 3050, 0.0012866464479367706), (3051, 3051, 0.002249793217535153), (3051, 3057, 0.001279294182519989), (3053, 3053, 0.001084459148975278), (3054, 3054, 0.004488558036945134), (3054, 3057, 0.001940998070030328), (3055, 3055, 0.0011543056704347028), (3056, 3056, 0.0016579358514842385), (3057, 3004, 0.002801213123793769), (3057, 3018, 0.0019446742027387188), (3057, 3037, 0.0013895781637717122), (3057, 3047, 0.0017130778421101), (3057, 3051, 0.0012498851208528627), (3057, 3054, 0.002110100174616304), (3057, 3057, 0.03137946879882364), (3057, 3102, 0.0016873449131513648), (3057, 3108, 0.0037570076279753698), (3057, 3116, 0.0017902766289863063), (3057, 3163, 0.001746163036485617), (3057, 3165, 0.001327083907729069), (3057, 3212, 0.001470453083356309), (3058, 3058, 0.001470453083356309), (3059, 3059, 0.0010807830162668872), (3060, 3057, 0.0016322029225255032), (3060, 3060, 0.0012425328554360813), (3061, 3061, 0.0014925098796066537), (3071, 3071, 0.0012756180498115983), (3093, 3093, 0.0011248966087675765), (3100, 3100, 0.0010918114143920596), (3101, 3101, 0.0027534233985846888), (3102, 3057, 0.0019373219373219374), (3102, 3102, 0.008282326992004412), (3106, 3106, 0.0018343902214869956), (3107, 3107, 0.0019483503354471097), (3108, 3057, 0.0018932083448212481), (3108, 3108, 0.003010752688172043), (3110, 3110, 0.002110100174616304), (3111, 3111, 0.0032423490488006617), (3116, 3057, 0.0036136384523481296), (3116, 3116, 0.002929877768587446), (3120, 3120, 0.00218729896149251), (3124, 3049, 0.0016726403823178017), (3124, 3124, 0.005841374873632938), (3125, 3125, 0.0012094476610605644), (3162, 3162, 0.001165334068559875), (3163, 3057, 0.002396838525870784), (3163, 3163, 0.005602426247587538), (3165, 3057, 0.0014520724198143554), (3165, 3165, 0.003356309162760776), (3167, 3167, 0.0013859020310633215), (3168, 3168, 0.001470453083356309), (3169, 3169, 0.0013454645712710229), (3185, 3185, 0.0010660784854333242), (3188, 3188, 0.0011543056704347028), (3190, 3190, 0.0015439757375241246), (3212, 3212, 0.00513555739362191), (3181, 3181, 0.001055050087308152), (3183, 3183, 0.0011432772723095304), (3186, 3186, 0.0013932542964801029)]\n",
      "[(3010, 3010, 0.0013285506410358105), (3010, 3028, 0.0010062015906828635), (3012, 3010, 0.0010068766672281053), (3012, 3020, 0.001496982239073633), (3012, 3021, 0.001049744027850958), (3020, 3012, 0.001323487566946497), (3020, 3032, 0.002969999260791183), (3020, 3066, 0.0010629080204831724), (3028, 3010, 0.0010004634400483084), (3032, 3020, 0.0019131669292151863), (3035, 3009, 0.0010959867712000194), (3038, 3032, 0.001237415307428171), (3043, 3043, 0.0010797849341142168), (3045, 3045, 0.0010180154302245946), (3053, 3053, 0.0015563889750549091), (3054, 3102, 0.0016620384543852467), (3057, 3057, 0.0020296176332693923), (3066, 3020, 0.0011398667466407347), (3102, 3054, 0.0012532796062413526)]\n",
      "[(3005, 3052, 0.0014849021351587294), (3007, 3007, 0.0010769619881371005), (3007, 3010, 0.0014876217361388738), (3007, 3045, 0.0012782124606677708), (3008, 3077, 0.0015447333567219018), (3010, 3068, 0.001223820441064887), (3010, 3086, 0.0011476716136208495), (3010, 3155, 0.0012754928596876267), (3012, 3012, 0.0010715227861768121), (3012, 3020, 0.001085120791077533), (3012, 3038, 0.0016671154008283905), (3020, 3012, 0.0012183812391045985), (3020, 3032, 0.0019390754988428097), (3020, 3066, 0.0012700536577273382), (3021, 3064, 0.0014740237312381528), (3021, 3102, 0.001773179839054014), (3022, 3032, 0.0010062523626533516), (3022, 3038, 0.0012890908645883476), (3028, 3100, 0.0010171307665739282), (3032, 3020, 0.0010388875744150817), (3032, 3038, 0.001506658942999883), (3032, 3047, 0.0011041579979385425), (3032, 3156, 0.0012510164508663288), (3032, 3161, 0.0010742423871569562), (3034, 3007, 0.0015175373469204598), (3038, 3012, 0.0011449520126407054), (3038, 3022, 0.0011503912146009938), (3038, 3032, 0.0018085346517958884), (3038, 3066, 0.0013462024851713756), (3045, 3007, 0.001055205180295947), (3051, 3108, 0.0013026888694890686), (3052, 3034, 0.0011014383969583982), (3052, 3052, 0.0010470463773555145), (3052, 3066, 0.001604564578285074), (3052, 3155, 0.0010144111655937841), (3054, 3102, 0.002268147217440257), (3062, 3114, 0.0010796815891172447), (3064, 3021, 0.0020451399370684333), (3066, 3020, 0.0010932795940179656), (3066, 3038, 0.0019200382919818005), (3066, 3052, 0.0013434828841912315), (3068, 3010, 0.0010171307665739282), (3077, 3008, 0.0013761180959529617), (3086, 3010, 0.0010905599930378215), (3100, 3033, 0.001068803185196668), (3100, 3034, 0.0012510164508663288), (3101, 3045, 0.0010062523626533516), (3102, 3021, 0.00230894123214242), (3102, 3054, 0.0014903413371190179), (3108, 3051, 0.001378837696933106), (3112, 3159, 0.0012591752538067614), (3114, 3062, 0.001422351312615413), (3120, 3010, 0.001661676198868102), (3155, 3010, 0.0014441081204565665), (3155, 3052, 0.0011204756038194076), (3161, 3032, 0.001028009170494505), (3170, 3020, 0.0010361679734349376), (3202, 3202, 0.0013842768988933944), (3186, 3186, 0.002306221631162276)]\n"
     ]
    },
    {
     "data": {
      "text/plain": [
       "<Figure size 432x288 with 0 Axes>"
      ]
     },
     "metadata": {},
     "output_type": "display_data"
    }
   ],
   "source": [
    "#compare by passholder_type to see different behaviors of different groups\n",
    "#subtract graph from each other of percent total traffic\n",
    "threshold = 0.001\n",
    "\n",
    "walkup_pass_data = sanitized_rides[sanitized_rides['passholder_type'] == 'Walk-up']\n",
    "\n",
    "walkup_graph_data = walkup_pass_data.groupby(['start_station','end_station']).size().reset_index(name='counts')\n",
    "walkup_graph_data['percent'] = walkup_graph_data['counts']/len(walkup_pass_data)\n",
    "\n",
    "walkup_graph = nx.from_pandas_edgelist(walkup_graph_data,'start_station','end_station', 'percent', create_using=nx.DiGraph())\n",
    "\n",
    "#Remove inactive nodes\n",
    "walkup_graph.remove_nodes_from([3023,3026,3027,3036,3048,3095,3103,3105,3109,3122,3129,3195])\n",
    "\n",
    "walkup_graph.remove_edges_from([(n1, n2) for n1, n2, w in walkup_graph.edges(data='percent') if w < threshold])\n",
    "walkup_graph.remove_nodes_from(list(nx.isolates(walkup_graph)))\n",
    "\n",
    "pos = nx.spring_layout(walkup_graph, k=1)\n",
    "nx.draw(walkup_graph, with_labels=True, pos=pos)\n",
    "\n",
    "print(walkup_graph.edges(data='percent'))\n",
    "plt.savefig('Walkup 001 Popular Routes.png')\n",
    "plt.clf()\n",
    "\n",
    "\n",
    "day_pass_data = sanitized_rides[sanitized_rides['passholder_type'] == 'One Day Pass']\n",
    "\n",
    "day_graph_data = day_pass_data.groupby(['start_station','end_station']).size().reset_index(name='counts')\n",
    "day_graph_data['percent'] = day_graph_data['counts']/len(day_pass_data)\n",
    "\n",
    "day_graph = nx.from_pandas_edgelist(day_graph_data,'start_station','end_station', 'percent', create_using=nx.DiGraph())\n",
    "\n",
    "#Remove inactive nodes\n",
    "day_graph.remove_nodes_from([3023,3026,3027,3036,3048,3095,3103,3105,3109,3122,3129,3195])\n",
    "\n",
    "day_graph.remove_edges_from([(n1, n2) for n1, n2, w in day_graph.edges(data='percent') if w < threshold])\n",
    "day_graph.remove_nodes_from(list(nx.isolates(day_graph)))\n",
    "\n",
    "pos = nx.spring_layout(day_graph, k=1)\n",
    "nx.draw(day_graph, with_labels=True, pos=pos)\n",
    "\n",
    "print(day_graph.edges(data='percent'))\n",
    "plt.savefig('Day 001 Popular Routes.png')\n",
    "plt.clf()\n",
    "\n",
    "\n",
    "month_pass_data = sanitized_rides[sanitized_rides['passholder_type'] == 'Indego30']\n",
    "\n",
    "month_graph_data = month_pass_data.groupby(['start_station','end_station']).size().reset_index(name='counts')\n",
    "month_graph_data['percent'] = month_graph_data['counts']/len(month_pass_data)\n",
    "\n",
    "month_graph = nx.from_pandas_edgelist(month_graph_data,'start_station','end_station', 'percent', create_using=nx.DiGraph())\n",
    "\n",
    "#Remove inactive nodes\n",
    "month_graph.remove_nodes_from([3023,3026,3027,3036,3048,3095,3103,3105,3109,3122,3129,3195])\n",
    "\n",
    "month_graph.remove_edges_from([(n1, n2) for n1, n2, w in month_graph.edges(data='percent') if w < threshold])\n",
    "month_graph.remove_nodes_from(list(nx.isolates(month_graph)))\n",
    "\n",
    "pos = nx.spring_layout(month_graph, k=1)\n",
    "nx.draw(month_graph, with_labels=True, pos=pos)\n",
    "\n",
    "print(month_graph.edges(data='percent'))\n",
    "plt.savefig('Month 001 Popular Routes.png')\n",
    "plt.clf()\n",
    "\n",
    "\n",
    "year_pass_data = sanitized_rides[sanitized_rides['passholder_type'] == 'Indego365']\n",
    "\n",
    "year_graph_data = year_pass_data.groupby(['start_station','end_station']).size().reset_index(name='counts')\n",
    "year_graph_data['percent'] = year_graph_data['counts']/len(year_pass_data)\n",
    "\n",
    "year_graph = nx.from_pandas_edgelist(year_graph_data,'start_station','end_station', 'percent', create_using=nx.DiGraph())\n",
    "\n",
    "#Remove inactive nodes\n",
    "year_graph.remove_nodes_from([3023,3026,3027,3036,3048,3095,3103,3105,3109,3122,3129,3195])\n",
    "\n",
    "year_graph.remove_edges_from([(n1, n2) for n1, n2, w in year_graph.edges(data='percent') if w < threshold])\n",
    "year_graph.remove_nodes_from(list(nx.isolates(year_graph)))\n",
    "\n",
    "pos = nx.spring_layout(year_graph, k=1)\n",
    "nx.draw(year_graph, with_labels=True, pos=pos)\n",
    "\n",
    "print(year_graph.edges(data='percent'))\n",
    "plt.savefig('Year 001 Popular Routes.png')\n",
    "plt.clf()"
   ]
  },
  {
   "cell_type": "code",
   "execution_count": 14,
   "metadata": {},
   "outputs": [
    {
     "name": "stdout",
     "output_type": "stream",
     "text": [
      "[(3004, 3004, 0.0029581387294914407), (3005, 3005, 0.0015536240806922526), (3006, 3006, 0.0015584340623662225), (3009, 3009, 0.0021981616250042087), (3010, 3010, 0.0020346222480892347), (3010, 3028, 0.0015824839707360716), (3018, 3018, 0.0027945993525764668), (3021, 3021, 0.002578150177247825), (3022, 3022, 0.001866272889500291), (3024, 3024, 0.0016642536591935585), (3028, 3028, 0.0016402037508237094), (3029, 3029, 0.0019672825046536573), (3032, 3032, 0.002082722064828933), (3037, 3037, 0.0020057623580454157), (3045, 3045, 0.002385750910289032), (3046, 3046, 0.0020490521931111443), (3047, 3047, 0.0035305265486938494), (3049, 3049, 0.005714258228676149), (3051, 3051, 0.0023665109835931527), (3052, 3052, 0.0018614629078263212), (3054, 3054, 0.00243385072702873), (3056, 3056, 0.0019961423946974763), (3057, 3004, 0.0023136011851794844), (3057, 3057, 0.01566130033044574), (3057, 3108, 0.002299171240157575), (3060, 3060, 0.0015632440440401922), (3061, 3061, 0.0020634821381330538), (3101, 3101, 0.001923992669587929), (3102, 3102, 0.0026647298473792816), (3124, 3124, 0.003410277006844604), (3163, 3163, 0.002000952376371446)]\n",
      "[(3004, 3004, 0.0023674294642036576), (3004, 3057, 0.0024041907912875655), (3009, 3009, 0.0017020494439849278), (3010, 3010, 0.0016358790552338939), (3018, 3018, 0.0024519805164966457), (3018, 3047, 0.0019042367429464204), (3018, 3057, 0.0016946971785681464), (3021, 3021, 0.001602793860858377), (3022, 3022, 0.001555004135649297), (3024, 3024, 0.0019299696719051558), (3028, 3028, 0.0022902306773274514), (3032, 3032, 0.0018858560794044665), (3037, 3037, 0.0018895322121128572), (3045, 3045, 0.002069662714824005), (3046, 3046, 0.003385718224427902), (3047, 3047, 0.003400422755261465), (3047, 3057, 0.0016579358514842385), (3049, 3049, 0.009282235088686702), (3051, 3051, 0.002249793217535153), (3054, 3054, 0.004488558036945134), (3054, 3057, 0.001940998070030328), (3056, 3056, 0.0016579358514842385), (3057, 3004, 0.002801213123793769), (3057, 3018, 0.0019446742027387188), (3057, 3047, 0.0017130778421101), (3057, 3054, 0.002110100174616304), (3057, 3057, 0.03137946879882364), (3057, 3102, 0.0016873449131513648), (3057, 3108, 0.0037570076279753698), (3057, 3116, 0.0017902766289863063), (3057, 3163, 0.001746163036485617), (3060, 3057, 0.0016322029225255032), (3101, 3101, 0.0027534233985846888), (3102, 3057, 0.0019373219373219374), (3102, 3102, 0.008282326992004412), (3106, 3106, 0.0018343902214869956), (3107, 3107, 0.0019483503354471097), (3108, 3057, 0.0018932083448212481), (3108, 3108, 0.003010752688172043), (3110, 3110, 0.002110100174616304), (3111, 3111, 0.0032423490488006617), (3116, 3057, 0.0036136384523481296), (3116, 3116, 0.002929877768587446), (3120, 3120, 0.00218729896149251), (3124, 3049, 0.0016726403823178017), (3124, 3124, 0.005841374873632938), (3163, 3057, 0.002396838525870784), (3163, 3163, 0.005602426247587538), (3165, 3165, 0.003356309162760776), (3190, 3190, 0.0015439757375241246), (3212, 3212, 0.00513555739362191)]\n",
      "[(3020, 3032, 0.002969999260791183), (3032, 3020, 0.0019131669292151863), (3053, 3053, 0.0015563889750549091), (3054, 3102, 0.0016620384543852467), (3057, 3057, 0.0020296176332693923)]\n",
      "[(3008, 3077, 0.0015447333567219018), (3012, 3038, 0.0016671154008283905), (3020, 3032, 0.0019390754988428097), (3021, 3102, 0.001773179839054014), (3032, 3038, 0.001506658942999883), (3034, 3007, 0.0015175373469204598), (3038, 3032, 0.0018085346517958884), (3052, 3066, 0.001604564578285074), (3054, 3102, 0.002268147217440257), (3064, 3021, 0.0020451399370684333), (3066, 3038, 0.0019200382919818005), (3102, 3021, 0.00230894123214242), (3120, 3010, 0.001661676198868102), (3186, 3186, 0.002306221631162276)]\n"
     ]
    },
    {
     "data": {
      "text/plain": [
       "<Figure size 432x288 with 0 Axes>"
      ]
     },
     "metadata": {},
     "output_type": "display_data"
    }
   ],
   "source": [
    "threshold = 0.0015\n",
    "\n",
    "walkup_pass_data = sanitized_rides[sanitized_rides['passholder_type'] == 'Walk-up']\n",
    "\n",
    "walkup_graph_data = walkup_pass_data.groupby(['start_station','end_station']).size().reset_index(name='counts')\n",
    "walkup_graph_data['percent'] = walkup_graph_data['counts']/len(walkup_pass_data)\n",
    "\n",
    "walkup_graph = nx.from_pandas_edgelist(walkup_graph_data,'start_station','end_station', 'percent', create_using=nx.DiGraph())\n",
    "\n",
    "#Remove inactive nodes\n",
    "walkup_graph.remove_nodes_from([3023,3026,3027,3036,3048,3095,3103,3105,3109,3122,3129,3195])\n",
    "\n",
    "walkup_graph.remove_edges_from([(n1, n2) for n1, n2, w in walkup_graph.edges(data='percent') if w < threshold])\n",
    "walkup_graph.remove_nodes_from(list(nx.isolates(walkup_graph)))\n",
    "\n",
    "pos = nx.spring_layout(walkup_graph, k=1)\n",
    "nx.draw(walkup_graph, with_labels=True, pos=pos)\n",
    "\n",
    "print(walkup_graph.edges(data='percent'))\n",
    "plt.savefig('Walkup 0015 Popular Routes.png')\n",
    "plt.clf()\n",
    "\n",
    "\n",
    "day_pass_data = sanitized_rides[sanitized_rides['passholder_type'] == 'One Day Pass']\n",
    "\n",
    "day_graph_data = day_pass_data.groupby(['start_station','end_station']).size().reset_index(name='counts')\n",
    "day_graph_data['percent'] = day_graph_data['counts']/len(day_pass_data)\n",
    "\n",
    "day_graph = nx.from_pandas_edgelist(day_graph_data,'start_station','end_station', 'percent', create_using=nx.DiGraph())\n",
    "\n",
    "#Remove inactive nodes\n",
    "day_graph.remove_nodes_from([3023,3026,3027,3036,3048,3095,3103,3105,3109,3122,3129,3195])\n",
    "\n",
    "day_graph.remove_edges_from([(n1, n2) for n1, n2, w in day_graph.edges(data='percent') if w < threshold])\n",
    "day_graph.remove_nodes_from(list(nx.isolates(day_graph)))\n",
    "\n",
    "pos = nx.spring_layout(day_graph, k=1)\n",
    "nx.draw(day_graph, with_labels=True, pos=pos)\n",
    "\n",
    "print(day_graph.edges(data='percent'))\n",
    "plt.savefig('Day 0015 Popular Routes.png')\n",
    "plt.clf()\n",
    "\n",
    "\n",
    "month_pass_data = sanitized_rides[sanitized_rides['passholder_type'] == 'Indego30']\n",
    "\n",
    "month_graph_data = month_pass_data.groupby(['start_station','end_station']).size().reset_index(name='counts')\n",
    "month_graph_data['percent'] = month_graph_data['counts']/len(month_pass_data)\n",
    "\n",
    "month_graph = nx.from_pandas_edgelist(month_graph_data,'start_station','end_station', 'percent', create_using=nx.DiGraph())\n",
    "\n",
    "#Remove inactive nodes\n",
    "month_graph.remove_nodes_from([3023,3026,3027,3036,3048,3095,3103,3105,3109,3122,3129,3195])\n",
    "\n",
    "month_graph.remove_edges_from([(n1, n2) for n1, n2, w in month_graph.edges(data='percent') if w < threshold])\n",
    "month_graph.remove_nodes_from(list(nx.isolates(month_graph)))\n",
    "\n",
    "pos = nx.spring_layout(month_graph, k=1)\n",
    "nx.draw(month_graph, with_labels=True, pos=pos)\n",
    "\n",
    "print(month_graph.edges(data='percent'))\n",
    "plt.savefig('Month 0015 Popular Routes.png')\n",
    "plt.clf()\n",
    "\n",
    "\n",
    "year_pass_data = sanitized_rides[sanitized_rides['passholder_type'] == 'Indego365']\n",
    "\n",
    "year_graph_data = year_pass_data.groupby(['start_station','end_station']).size().reset_index(name='counts')\n",
    "year_graph_data['percent'] = year_graph_data['counts']/len(year_pass_data)\n",
    "\n",
    "year_graph = nx.from_pandas_edgelist(year_graph_data,'start_station','end_station', 'percent', create_using=nx.DiGraph())\n",
    "\n",
    "#Remove inactive nodes\n",
    "year_graph.remove_nodes_from([3023,3026,3027,3036,3048,3095,3103,3105,3109,3122,3129,3195])\n",
    "\n",
    "year_graph.remove_edges_from([(n1, n2) for n1, n2, w in year_graph.edges(data='percent') if w < threshold])\n",
    "year_graph.remove_nodes_from(list(nx.isolates(year_graph)))\n",
    "\n",
    "pos = nx.spring_layout(year_graph, k=1)\n",
    "nx.draw(year_graph, with_labels=True, pos=pos)\n",
    "\n",
    "print(year_graph.edges(data='percent'))\n",
    "plt.savefig('Year 0015 Popular Routes.png')\n",
    "plt.clf()"
   ]
  },
  {
   "cell_type": "code",
   "execution_count": 15,
   "metadata": {},
   "outputs": [],
   "source": [
    "#time differences (in day, in year)\n",
    "#Net difference with threshold\n",
    "#Network of average duration by edge"
   ]
  },
  {
   "cell_type": "code",
   "execution_count": null,
   "metadata": {},
   "outputs": [],
   "source": []
  }
 ],
 "metadata": {
  "kernelspec": {
   "display_name": "Python 3",
   "language": "python",
   "name": "python3"
  },
  "language_info": {
   "codemirror_mode": {
    "name": "ipython",
    "version": 3
   },
   "file_extension": ".py",
   "mimetype": "text/x-python",
   "name": "python",
   "nbconvert_exporter": "python",
   "pygments_lexer": "ipython3",
   "version": "3.8.5"
  }
 },
 "nbformat": 4,
 "nbformat_minor": 4
}
